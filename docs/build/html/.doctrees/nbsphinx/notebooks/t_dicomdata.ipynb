{
 "cells": [
  {
   "attachments": {},
   "cell_type": "markdown",
   "metadata": {},
   "source": [
    "# Reconstructing DICOM Data"
   ]
  },
  {
   "cell_type": "code",
   "execution_count": 1,
   "metadata": {},
   "outputs": [],
   "source": [
    "import os\n",
    "import numpy as np\n",
    "import torch\n",
    "import pytomography\n",
    "from pytomography.io.SPECT import dicom\n",
    "from pytomography.transforms import SPECTAttenuationTransform, SPECTPSFTransform\n",
    "from pytomography.algorithms import OSEMOSL\n",
    "from pytomography.projections import SPECTSystemMatrix\n",
    "from pytomography.utils import print_collimator_parameters\n",
    "import matplotlib.pyplot as plt\n",
    "import pydicom"
   ]
  },
  {
   "cell_type": "markdown",
   "metadata": {},
   "source": [
    "## Part 1: Opening Data"
   ]
  },
  {
   "attachments": {},
   "cell_type": "markdown",
   "metadata": {},
   "source": [
    "First we specify the required filepaths to open the SPECT scan (`file_NM`) and the CT data files (`files_CT`)."
   ]
  },
  {
   "cell_type": "code",
   "execution_count": 2,
   "metadata": {},
   "outputs": [],
   "source": [
    "# initialize the `path`` variable below to specify the location of the required data\n",
    "path = '/disk1/pytomography_tutorial_data/dicom_tutorial/' \n",
    "path_CT = os.path.join(path, 'CT_files')\n",
    "files_CT = [os.path.join(path_CT, file) for file in os.listdir(path_CT)]\n",
    "file_NM = os.path.join(path, 'projection_data.dcm')"
   ]
  },
  {
   "cell_type": "markdown",
   "metadata": {},
   "source": [
    "The metadata for object space and image space can be obtained from the projection data file using `dicom.get_metadata`"
   ]
  },
  {
   "cell_type": "code",
   "execution_count": 3,
   "metadata": {},
   "outputs": [],
   "source": [
    "object_meta, image_meta = dicom.get_metadata(file_NM, index_peak=3)"
   ]
  },
  {
   "attachments": {},
   "cell_type": "markdown",
   "metadata": {},
   "source": [
    "The photopeak can be obtained using the `dicom.get_projections` function. Note that most raw SPECT DICOM files contain data from multiple energy windows. If the `index_peak` argument isn't included, then projections the third argument it returns would contain all energy windows (along the batch dimension). In this case, we specify `index_peak=3`, so it only returns the projections corresponding to that energy window. This infomation can be obtained by opening the dicom file using pydicom and looking at the `EnergyWindowInformationSequence` attribute"
   ]
  },
  {
   "cell_type": "code",
   "execution_count": 4,
   "metadata": {},
   "outputs": [
    {
     "data": {
      "text/plain": [
       "torch.Size([1, 180, 128, 128])"
      ]
     },
     "execution_count": 4,
     "metadata": {},
     "output_type": "execute_result"
    }
   ],
   "source": [
    "photopeak = dicom.get_projections(file_NM, index_peak=3)\n",
    "photopeak.shape"
   ]
  },
  {
   "cell_type": "markdown",
   "metadata": {},
   "source": [
    "The shape of the photopeak is $(1, N_{angles}, \\text{Width}, \\text{Height})$. The extra channel dimension at the beginning is such that data is compatible with potential AI models"
   ]
  },
  {
   "cell_type": "code",
   "execution_count": 5,
   "metadata": {},
   "outputs": [
    {
     "data": {
      "text/plain": [
       "<matplotlib.colorbar.Colorbar at 0x7f4e590fc1f0>"
      ]
     },
     "execution_count": 5,
     "metadata": {},
     "output_type": "execute_result"
    },
    {
     "data": {
      "image/png": "[encoded data removed]",
      "text/plain": [
       "<Figure size 700x600 with 2 Axes>"
      ]
     },
     "metadata": {},
     "output_type": "display_data"
    }
   ],
   "source": [
    "plt.figure(figsize=(7,6))\n",
    "plt.pcolormesh(photopeak[0,0].cpu().T, cmap='nipy_spectral')\n",
    "plt.axis('off')\n",
    "plt.colorbar(label='Counts')"
   ]
  },
  {
   "attachments": {},
   "cell_type": "markdown",
   "metadata": {},
   "source": [
    "Scatter projections can be estimated using the triple energy window function `dicom_get_scatterTEW`. One needs to specify the index of the peak, and lower/upper energy windows"
   ]
  },
  {
   "cell_type": "code",
   "execution_count": 6,
   "metadata": {},
   "outputs": [],
   "source": [
    "scatter = dicom.get_scatter_from_TEW(file_NM, index_peak=3, index_lower=2, index_upper=4)"
   ]
  },
  {
   "cell_type": "markdown",
   "metadata": {},
   "source": [
    "## Part 2: Modeling"
   ]
  },
  {
   "cell_type": "markdown",
   "metadata": {},
   "source": [
    "### Attenuation Transform"
   ]
  },
  {
   "cell_type": "markdown",
   "metadata": {},
   "source": [
    "The attenuation transform is used to \"correct\" for the fact that some photons get atteunated in the patient before they reach the detector. PyTomography has functionality to do attenuation correction provided either (i) an argument `attenuation_map=...` OR (ii) an argument `filepath=...` is provided to the `SPECTAttenuationTransform`.\n",
    "\n",
    "* `attenuation_map` must be aligned with the SPECT projection data and have units of cm $^{-1}$ .\n",
    "* `filepath` specifies the directory of some CT scan which will be used for attenuation correction. PyTomography has functionality to align this with the SPECT projections and convert to units of cm $^{-1}$.\n",
    "\n",
    "In this case, since we're reconstructing DICOM data, it's easier to use `filepath` than to manually align/rescale the CT data"
   ]
  },
  {
   "cell_type": "code",
   "execution_count": 7,
   "metadata": {},
   "outputs": [],
   "source": [
    "att_transform = SPECTAttenuationTransform(filepath=files_CT)"
   ]
  },
  {
   "cell_type": "markdown",
   "metadata": {},
   "source": [
    "If we want to view the attenuation map, we need to *configure* the `att_transform` so that it knows about the SPECT projection data (for alignment) and the photopeak energy (for obtaining cm $^{-1}$ units)\n",
    "\n",
    "* *Note*: This is not required if you don't want to view the attenuation map. Later, when the system matrix is built, it automatically configures all the transforms"
   ]
  },
  {
   "cell_type": "code",
   "execution_count": 8,
   "metadata": {},
   "outputs": [
    {
     "name": "stdout",
     "output_type": "stream",
     "text": [
      "Cortical Bone Peak: 1419.3499755859375 HU\n",
      "Effective CT Energy Determined: 75.89505539164563 keV\n"
     ]
    },
    {
     "name": "stderr",
     "output_type": "stream",
     "text": [
      "/data/home/gpuvmadm/PyTomography/src/pytomography/utils/nist_data.py:25: RuntimeWarning: overflow encountered in exp\n",
      "  return c1*np.exp(-d1*np.sqrt(energy)) + c2*np.exp(-d2*np.sqrt(energy))\n"
     ]
    }
   ],
   "source": [
    "att_transform.configure(object_meta, image_meta)\n",
    "attenuation_map = att_transform.attenuation_map"
   ]
  },
  {
   "attachments": {},
   "cell_type": "markdown",
   "metadata": {},
   "source": [
    "Viewing the attenuation map allows for a consistency check to ensure that it's properly aligned with the projection data"
   ]
  },
  {
   "cell_type": "code",
   "execution_count": 9,
   "metadata": {},
   "outputs": [],
   "source": [
    "sample_slice_from_file = attenuation_map.cpu()[0][:,70].T\n",
    "sample_slice_from_CT_slices = attenuation_map.cpu()[0][:,70].T\n",
    "ratio = (sample_slice_from_file+1e-3)/(sample_slice_from_CT_slices+1e-3)"
   ]
  },
  {
   "cell_type": "code",
   "execution_count": 10,
   "metadata": {},
   "outputs": [
    {
     "data": {
      "text/plain": [
       "<matplotlib.colorbar.Colorbar at 0x7f4e56f14160>"
      ]
     },
     "execution_count": 10,
     "metadata": {},
     "output_type": "execute_result"
    },
    {
     "data": {
      "image/png": "[encoded data removed]",
      "text/plain": [
       "<Figure size 1000x300 with 6 Axes>"
      ]
     },
     "metadata": {},
     "output_type": "display_data"
    }
   ],
   "source": [
    "plt.subplots(1,3,figsize=(10,3))\n",
    "plt.subplot(131)\n",
    "plt.title('From File')\n",
    "plt.pcolormesh(sample_slice_from_file, cmap='nipy_spectral')\n",
    "plt.colorbar()\n",
    "plt.subplot(132)\n",
    "plt.title('From CT Slices')\n",
    "plt.pcolormesh(sample_slice_from_CT_slices, cmap='nipy_spectral')\n",
    "plt.colorbar()\n",
    "plt.subplot(133)\n",
    "plt.title('Ratio')\n",
    "plt.pcolormesh(ratio, cmap='seismic', vmin=0.9, vmax=1.1)\n",
    "plt.colorbar()"
   ]
  },
  {
   "attachments": {},
   "cell_type": "markdown",
   "metadata": {},
   "source": [
    "While the two maps are very similar, they differ by approximately $\\pm 5\\%$ in highly attenuating regions."
   ]
  },
  {
   "cell_type": "markdown",
   "metadata": {},
   "source": [
    "### PSF Modeling"
   ]
  },
  {
   "attachments": {},
   "cell_type": "markdown",
   "metadata": {},
   "source": [
    "PSF modeling requires knowing the parameters of the collimators used for the scan. A list of all supported collimator types can be determined by uncommenting the following line and running it"
   ]
  },
  {
   "cell_type": "code",
   "execution_count": 11,
   "metadata": {},
   "outputs": [],
   "source": [
    "#print_collimator_parameters()"
   ]
  },
  {
   "cell_type": "markdown",
   "metadata": {},
   "source": [
    "In our case, we know that this scan was performed on a Siemens Symbia scanner with medium energy collimators."
   ]
  },
  {
   "cell_type": "code",
   "execution_count": 12,
   "metadata": {},
   "outputs": [
    {
     "name": "stdout",
     "output_type": "stream",
     "text": [
      "Function:         sigma_fit : function = lambda r, a, b: a*r+b,\n",
      "\n",
      "Parameters: (0.03161992134409504, 0.12485030464233879)\n",
      "Dimensions: 2D\n",
      "Maximum sigmas: 3\n"
     ]
    }
   ],
   "source": [
    "collimator_name = 'SY-ME'\n",
    "energy_kev = 208\n",
    "psf_meta = dicom.get_psfmeta_from_scanner_params(collimator_name, energy_kev)\n",
    "print(psf_meta)"
   ]
  },
  {
   "attachments": {},
   "cell_type": "markdown",
   "metadata": {},
   "source": [
    "# Reconstruct the object"
   ]
  },
  {
   "attachments": {},
   "cell_type": "markdown",
   "metadata": {},
   "source": [
    "We're now ready to reconstruct the DICOM object. We'll try using attenuation correction with both the vendors attenuation map and the one created by PyTomography\n",
    "\n",
    "So we'll create a function that performs reconstruction given a particular attenuation map:"
   ]
  },
  {
   "cell_type": "code",
   "execution_count": 13,
   "metadata": {},
   "outputs": [],
   "source": [
    "def reconstruct_phantom():\n",
    "    # Create transforms required for attenuation and PSF modeling\n",
    "    att_transform = SPECTAttenuationTransform(filepath=files_CT)\n",
    "    psf_transform = SPECTPSFTransform(psf_meta)\n",
    "    # Create the SPECT system matrix using transforms and using metadata from the photopeak\n",
    "    system_matrix = SPECTSystemMatrix(\n",
    "        obj2obj_transforms = [att_transform,psf_transform],\n",
    "        im2im_transforms = [],\n",
    "        object_meta = object_meta,\n",
    "        image_meta = image_meta)\n",
    "    # Initialize reconstruction algorithm\n",
    "    reconstruction_algorithm = OSEMOSL(\n",
    "        image = photopeak,\n",
    "        system_matrix = system_matrix,\n",
    "        scatter=scatter)\n",
    "    # Reconstruct object\n",
    "    reconstructed_object = reconstruction_algorithm(n_iters=4, n_subsets=10)\n",
    "    # Return both the object and a unique string identifying the type of reconstruction performed\n",
    "    return reconstructed_object, reconstruction_algorithm.recon_method_string"
   ]
  },
  {
   "cell_type": "code",
   "execution_count": 14,
   "metadata": {},
   "outputs": [
    {
     "name": "stdout",
     "output_type": "stream",
     "text": [
      "Cortical Bone Peak: 1419.3499755859375 HU\n",
      "Effective CT Energy Determined: 75.89505539164563 keV\n"
     ]
    }
   ],
   "source": [
    "recon, recon_name = reconstruct_phantom()"
   ]
  },
  {
   "attachments": {},
   "cell_type": "markdown",
   "metadata": {},
   "source": [
    "We'll compare these reconstructions to one done on the vendors software, which also performed OSEM with 4 iterations, 10 subsets, with attenuation modeling, PSF modeling, and triple energy window scatter correction."
   ]
  },
  {
   "cell_type": "code",
   "execution_count": null,
   "metadata": {},
   "outputs": [],
   "source": [
    "ds_recon = pydicom.read_file(os.path.join(path, 'scanner_recon.dcm'))\n",
    "recon_vendor = ds_recon.pixel_array / 90\n",
    "recon_vendor = np.transpose(recon_vendor, (2,1,0))"
   ]
  },
  {
   "attachments": {},
   "cell_type": "markdown",
   "metadata": {},
   "source": [
    "# Plotting"
   ]
  },
  {
   "attachments": {},
   "cell_type": "markdown",
   "metadata": {},
   "source": [
    "We can looks at axial slices from all three reconstructions."
   ]
  },
  {
   "cell_type": "code",
   "execution_count": null,
   "metadata": {},
   "outputs": [],
   "source": [
    "slice_pytomography = recon.cpu()[0][:,:,70].T\n",
    "slice_vendor = recon_vendor[:,:,70].T"
   ]
  },
  {
   "cell_type": "code",
   "execution_count": null,
   "metadata": {},
   "outputs": [
    {
     "data": {
      "image/png": "[encoded data removed]",
      "text/plain": [
       "<Figure size 700x300 with 4 Axes>"
      ]
     },
     "metadata": {},
     "output_type": "display_data"
    }
   ],
   "source": [
    "plt.subplots(1,2,figsize=(7,3))\n",
    "plt.subplot(121)\n",
    "plt.title('PyTomography')\n",
    "plt.pcolormesh(slice_pytomography , cmap='nipy_spectral', vmax=110)\n",
    "plt.axis('off')\n",
    "plt.colorbar()\n",
    "plt.subplot(122)\n",
    "plt.title('Vendor')\n",
    "plt.pcolormesh(slice_vendor, cmap='nipy_spectral', vmax=110)\n",
    "plt.axis('off')\n",
    "plt.colorbar()\n",
    "plt.show()"
   ]
  },
  {
   "attachments": {},
   "cell_type": "markdown",
   "metadata": {},
   "source": [
    "Careful observation of the top bright lobe shows that the reconstruction obtained by using the vendors attenuation map gives a reconstruction more consistent with the vendor than that using seperate CT slices."
   ]
  },
  {
   "cell_type": "markdown",
   "metadata": {},
   "source": [
    "# Saving Data"
   ]
  },
  {
   "cell_type": "markdown",
   "metadata": {},
   "source": [
    "PyTomography has functionality for saving DICOM data. There are a few things required:\n",
    "\n",
    "1. The folder where you want to save the data. The folder can't exist already (has to be a new folder); this prevents overwriting potential data.\n",
    "2. The reconstructed object itself: in this case, `recon_CTslices`\n",
    "3. The filepath of the projection data `file_NM`. Much of the study/patient information is copied over from this file to the reconstructed file.\n",
    "4. An optional string that represents the type of reconstruction performed. If left blank, will be an empty string `''`"
   ]
  },
  {
   "cell_type": "code",
   "execution_count": null,
   "metadata": {},
   "outputs": [],
   "source": [
    "# Modify the path below to a location on your computer where you want to save the data\n",
    "save_path = '/disk1/pytomography_tutorial_data/dicom_tutorial/output'\n",
    "dicom.save_dcm(save_path, recon, file_NM, recon_name)"
   ]
  },
  {
   "cell_type": "markdown",
   "metadata": {},
   "source": [
    "The data can now be exported to any DICOM viewer of your choice!"
   ]
  }
 ],
 "metadata": {
  "kernelspec": {
   "display_name": "torch",
   "language": "python",
   "name": "python3"
  },
  "language_info": {
   "codemirror_mode": {
    "name": "ipython",
    "version": 3
   },
   "file_extension": ".py",
   "mimetype": "text/x-python",
   "name": "python",
   "nbconvert_exporter": "python",
   "pygments_lexer": "ipython3",
   "version": "3.9.16"
  }
 },
 "nbformat": 4,
 "nbformat_minor": 2
}
