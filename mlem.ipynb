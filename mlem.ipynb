{
 "cells": [
  {
   "cell_type": "code",
   "execution_count": 1,
   "metadata": {},
   "outputs": [],
   "source": [
    "import torch\n",
    "from torchvision.transforms.functional import rotate\n",
    "from torchvision.transforms import InterpolationMode\n",
    "import numpy as np\n",
    "import matplotlib.pyplot as plt"
   ]
  },
  {
   "cell_type": "code",
   "execution_count": 2,
   "metadata": {},
   "outputs": [],
   "source": [
    "device = torch.device(\"cuda\" if torch.cuda.is_available() else \"cpu\")\n",
    "device = 'cuda'"
   ]
  },
  {
   "cell_type": "code",
   "execution_count": 3,
   "metadata": {},
   "outputs": [],
   "source": [
    "def draw_sphere(xv, yv, zv, center, radius, scale):\n",
    "    return (((xv-center[0])**2 + (yv-center[1])**2 + (zv-center[2])**2) < radius**2).astype(np.float32) * scale\n",
    "\n",
    "def draw_cylinder(xv, yv, zv, center, radius, height, scale):\n",
    "    return scale * ((xv-center[0])**2 + (zv-center[2])**2 < radius**2) * (yv-center[1]<height/2) * (yv-center[1]>-height/2)"
   ]
  },
  {
   "cell_type": "code",
   "execution_count": 4,
   "metadata": {},
   "outputs": [],
   "source": [
    "x_loc = 0.4*(np.random.uniform(size=10) - 0.5)\n",
    "y_loc = 0.4*(np.random.uniform(size=10) - 0.5)\n",
    "z_loc = 0.4*(np.random.uniform(size=10) - 0.5)"
   ]
  },
  {
   "cell_type": "code",
   "execution_count": 5,
   "metadata": {},
   "outputs": [],
   "source": [
    "xv, yv, zv = np.meshgrid(np.linspace(-1,1,100), np.linspace(-1,1,130), np.linspace(-1,1,150), indexing='ij')\n",
    "f_theo = draw_cylinder(xv, yv, zv, (0,0,0), 0.5, 1, 0.1) \\\n",
    "        + draw_cylinder(xv, yv, zv, (0.1,-0.4,0), 0.1, 0.5, 0.05) \\\n",
    "        + draw_cylinder(xv, yv, zv, (0.3,0.4,0.2), 0.3, 0.3, 0.1) \n",
    "for (x, y, z) in zip(x_loc, y_loc, z_loc):\n",
    "        f_theo+= draw_cylinder(xv, yv, zv, (x, y, z), 0.3, 0.3, 0.03) \n",
    "f = np.random.poisson(f_theo)\n",
    "f = torch.tensor(f, dtype=torch.float32).to(device)\n",
    "CT = draw_sphere(xv, yv, zv, (0,0.2,0), 0.5, 1/32)\n",
    "CT = torch.tensor(CT).to(device)\n",
    "\n",
    "collimator_slope = 1/20\n",
    "collimator_intercept = 0"
   ]
  },
  {
   "cell_type": "code",
   "execution_count": 6,
   "metadata": {},
   "outputs": [
    {
     "data": {
      "text/plain": [
       "<matplotlib.colorbar.Colorbar at 0x7f365c7ad930>"
      ]
     },
     "execution_count": 6,
     "metadata": {},
     "output_type": "execute_result"
    },
    {
     "data": {
      "image/png": "[encoded data removed]",
      "text/plain": [
       "<Figure size 432x288 with 2 Axes>"
      ]
     },
     "metadata": {
      "needs_background": "light"
     },
     "output_type": "display_data"
    }
   ],
   "source": [
    "plt.pcolormesh(f.cpu().sum(axis=2).T)\n",
    "plt.colorbar()"
   ]
  },
  {
   "cell_type": "code",
   "execution_count": 7,
   "metadata": {},
   "outputs": [],
   "source": [
    "dx = 2 #mm"
   ]
  },
  {
   "cell_type": "markdown",
   "metadata": {},
   "source": [
    "How to perform forward projection with attenuation"
   ]
  },
  {
   "cell_type": "code",
   "execution_count": 8,
   "metadata": {},
   "outputs": [],
   "source": [
    "angles = np.arange(0, 360, 3.75)\n",
    "radii = np.ones(len(angles)) * 150 # mm"
   ]
  },
  {
   "cell_type": "markdown",
   "metadata": {},
   "source": [
    "Utility functions"
   ]
  },
  {
   "cell_type": "code",
   "execution_count": 27,
   "metadata": {},
   "outputs": [],
   "source": [
    "def rev_cumsum(x, dim):\n",
    "    return torch.cumsum(x.flip(dims=(0,)), dim=dim).flip(dims=(0,))\n",
    "\n",
    "# Rotates in object space around the z-axis\n",
    "def rotate_z(x, angle, interpolation = InterpolationMode.BILINEAR):\n",
    "    return rotate(x.permute(2,0,1), angle, interpolation).permute(1,2,0)"
   ]
  },
  {
   "cell_type": "markdown",
   "metadata": {},
   "source": [
    "Functions for PSF modeling"
   ]
  },
  {
   "cell_type": "code",
   "execution_count": 28,
   "metadata": {},
   "outputs": [],
   "source": [
    "def get_distance(N, r, dx):\n",
    "    if N%2==0:\n",
    "        d = r + (N//2 - np.arange(N)) * dx\n",
    "    else:\n",
    "        d = d = r + (N//2 - np.arange(N) - 1/2) * dx\n",
    "    return d\n",
    "\n",
    "def get_PSF_transform(FWHM, kernel_size=21, delta=1e-9):\n",
    "    N = len(FWHM)\n",
    "    layer = torch.nn.Conv2d(N, N, kernel_size, groups=N, padding='same',\n",
    "                            padding_mode='replicate', bias=0, device=device)\n",
    "    x_grid, y_grid = torch.meshgrid(2*[torch.arange(-int(kernel_size//2), int(kernel_size//2)+1)])\n",
    "    x_grid = x_grid.unsqueeze(dim=0).repeat((100,1,1))\n",
    "    y_grid = y_grid.unsqueeze(dim=0).repeat((100,1,1))\n",
    "    FWHM = torch.tensor(FWHM, dtype=torch.float32).reshape((100,1,1))\n",
    "    kernel = torch.exp(-(x_grid**2 + y_grid**2) / (2*FWHM**2 + delta))\n",
    "    kernel = kernel / kernel.sum(axis=(1,2)).reshape(100,1,1)\n",
    "    layer.weight.data = kernel.unsqueeze(dim=1).to(device)\n",
    "    return layer\n",
    "\n",
    "@torch.no_grad()\n",
    "def model_PSF(object, radius, dx, collimator_slope, collimator_intercept):\n",
    "    distances = get_distance(f.shape[0], radius, dx)\n",
    "    FWHM = collimator_slope * distances + collimator_intercept\n",
    "    PSF_transform = get_PSF_transform(FWHM)\n",
    "    return PSF_transform(object.unsqueeze(dim=0)).squeeze()\n",
    "\n",
    "def get_prob_of_detection_matrix(CT, dx): \n",
    "    return torch.exp(-rev_cumsum(CT* dx, dim=0))\n",
    "\n",
    "def model_CT(object, prob_of_detection_matrix, dx):\n",
    "    return object * prob_of_detection_matrix"
   ]
  },
  {
   "cell_type": "code",
   "execution_count": 29,
   "metadata": {},
   "outputs": [
    {
     "data": {
      "text/plain": [
       "0.1764"
      ]
     },
     "execution_count": 29,
     "metadata": {},
     "output_type": "execute_result"
    }
   ],
   "source": [
    "100 * 500 * 21 * 21 * 8 / 1e9"
   ]
  },
  {
   "cell_type": "code",
   "execution_count": 30,
   "metadata": {},
   "outputs": [
    {
     "data": {
      "text/plain": [
       "torch.Size([100, 1, 21, 21])"
      ]
     },
     "execution_count": 30,
     "metadata": {},
     "output_type": "execute_result"
    }
   ],
   "source": [
    "fwhm = np.linspace(3, 5, 100)\n",
    "get_PSF_transform(fwhm).weight.data.shape"
   ]
  },
  {
   "cell_type": "markdown",
   "metadata": {},
   "source": [
    "Forward and back projection functions"
   ]
  },
  {
   "cell_type": "code",
   "execution_count": 31,
   "metadata": {},
   "outputs": [],
   "source": [
    "# c is the diagonal system matrix\n",
    "# f: [Lx, Ly, Lz], # c: [Lx, Ly, Lz]\n",
    "def forward_projection(f, CT_options=None, PSF_options = None):\n",
    "    if CT_options:\n",
    "        f = model_CT(f, **CT_options)\n",
    "    if PSF_options:\n",
    "        f = model_PSF(f, **PSF_options)\n",
    "    return f.sum(axis=0)\n",
    "\n",
    "# c is the diagonal system matrix\n",
    "# g: [Ly, Lz], # c: [Lx, Ly, Lz]\n",
    "# uses broadcasing rules of numpy/torch\n",
    "def back_projection(g, width, CT_options=None, PSF_options = None):\n",
    "    f = g*torch.ones((width, g.shape[0], g.shape[1])).to(device)\n",
    "    if PSF_options:\n",
    "        f = model_PSF(f, **PSF_options)\n",
    "    if CT_options:\n",
    "        f = model_CT(f, **CT_options)\n",
    "    return f\n",
    "\n",
    "def get_forward_projections(f, CT, angles, radii, collimator_slope, collimator_intercept):\n",
    "    projections = torch.zeros(size=(len(angles), f.shape[1], f.shape[2])).to(device)\n",
    "    for i, (angle, radius) in enumerate(zip(angles, radii)):\n",
    "        f_rotated = rotate_z(f, angle)\n",
    "        CT_rotated = rotate_z(CT, angle)\n",
    "        c_rotated = get_prob_of_detection_matrix(CT_rotated, dx)\n",
    "        CT_options = {'prob_of_detection_matrix':c_rotated, 'dx':dx}\n",
    "        PSF_options = {'radius':radius, 'dx':dx, 'collimator_slope':collimator_slope, 'collimator_intercept':collimator_intercept}\n",
    "        projections[i] = forward_projection(f_rotated, CT_options, PSF_options)\n",
    "    return projections"
   ]
  },
  {
   "cell_type": "code",
   "execution_count": 32,
   "metadata": {},
   "outputs": [],
   "source": [
    "g = get_forward_projections(f, CT, angles, radii, collimator_slope, collimator_intercept)"
   ]
  },
  {
   "cell_type": "markdown",
   "metadata": {},
   "source": [
    "MLEM with CT Correction Using Pytorch:"
   ]
  },
  {
   "cell_type": "markdown",
   "metadata": {},
   "source": [
    "Function for next iteraton"
   ]
  },
  {
   "cell_type": "code",
   "execution_count": 33,
   "metadata": {},
   "outputs": [],
   "source": [
    "def MLEM_iteration(image, object_guess, CT, angles, radii, projection_indices, collimator_slope, collimator_intercept, delta=1e-9):\n",
    "    N_ij = torch.zeros(size=(image.shape[0], *CT.shape)).to(device)\n",
    "    c_total = torch.zeros(CT.shape).to(device)\n",
    "    # Looping through different j's of N_ij (i.e. projections)\n",
    "    for proj, angle, radius in zip(projection_indices, angles, radii):\n",
    "        CT_rotated = rotate_z(CT, angle)\n",
    "        c_rotated = get_prob_of_detection_matrix(CT_rotated, dx)\n",
    "        object_guess_rotated = rotate_z(object_guess, angle)\n",
    "        # Options for CT and PSF correction\n",
    "        CT_options = {'prob_of_detection_matrix':c_rotated, 'dx':dx}\n",
    "        PSF_options = {'radius':radius, 'dx':dx, 'collimator_slope':collimator_slope, 'collimator_intercept':collimator_intercept}\n",
    "        # The algorithm\n",
    "        ratio = image[proj]/(forward_projection(object_guess_rotated, CT_options, PSF_options) + delta)\n",
    "        N_i_rotated = object_guess_rotated * back_projection(ratio, object_guess.shape[0], CT_options, PSF_options)\n",
    "        N_i = rotate_z(N_i_rotated, -angle)\n",
    "        # Append stuff   \n",
    "        N_ij[proj] = N_i\n",
    "        c_total += rotate_z(c_rotated, -angle)\n",
    "    return N_ij.sum(axis=0) / (c_total+delta)"
   ]
  },
  {
   "cell_type": "code",
   "execution_count": 34,
   "metadata": {},
   "outputs": [],
   "source": [
    "def OSEM(image, object_guess_init, CT, angles, radii, n_subsets, n_iterations, collimator_slope=0, collimator_intercept=0):\n",
    "    biass = []\n",
    "    vars = []\n",
    "    object_guess=object_guess_init\n",
    "    # Create angle subsets\n",
    "    angle_subsets = []\n",
    "    projection_indices_subsets = []\n",
    "    radius_subsets = []\n",
    "    for i in range(n_subsets):\n",
    "        angle_subsets.append(angles[i::n_subsets])\n",
    "        radius_subsets.append(radii[i::n_subsets])\n",
    "        projection_indices_subsets.append(np.arange(len(angles))[i::n_subsets])\n",
    "    # run algorithm\n",
    "    for i in range(n_iterations):\n",
    "        for angle_subset, radius_subset, projection_indices in zip(angle_subsets, radius_subsets, projection_indices_subsets):\n",
    "            object_guess = MLEM_iteration(image, object_guess, CT, angle_subset, radius_subset, projection_indices, collimator_slope, collimator_intercept)\n",
    "            biass.append(np.mean(f_theo-object_guess.cpu().numpy()))\n",
    "            vars.append(np.var(f_theo-object_guess.cpu().numpy()))\n",
    "    return object_guess, biass, vars"
   ]
  },
  {
   "cell_type": "code",
   "execution_count": 35,
   "metadata": {},
   "outputs": [],
   "source": [
    "object_guess = torch.ones(CT.shape).to(device)\n",
    "fhat_osem, biass_osem, vars_osem = OSEM(g, object_guess, CT, angles, radii, n_subsets=2, n_iterations=8,\n",
    "                                        collimator_slope=collimator_slope, collimator_intercept=collimator_intercept)"
   ]
  },
  {
   "cell_type": "code",
   "execution_count": 36,
   "metadata": {},
   "outputs": [],
   "source": [
    "fhat_mlem, biass_mlem, vars_mlem = OSEM(g, object_guess, CT, angles, radii, n_subsets=1, n_iterations=16,\n",
    "                                        collimator_slope=collimator_slope, collimator_intercept=collimator_intercept)"
   ]
  },
  {
   "cell_type": "code",
   "execution_count": 37,
   "metadata": {},
   "outputs": [
    {
     "data": {
      "text/plain": [
       "Text(0, 0.5, 'Variance')"
      ]
     },
     "execution_count": 37,
     "metadata": {},
     "output_type": "execute_result"
    },
    {
     "data": {
      "image/png": "[encoded data removed]",
      "text/plain": [
       "<Figure size 432x288 with 1 Axes>"
      ]
     },
     "metadata": {
      "needs_background": "light"
     },
     "output_type": "display_data"
    }
   ],
   "source": [
    "plt.plot(biass_mlem,vars_mlem, 'o--')\n",
    "plt.plot(biass_osem,vars_osem, 'o--')\n",
    "plt.xlabel('Bias')\n",
    "plt.ylabel('Variance')"
   ]
  },
  {
   "cell_type": "code",
   "execution_count": 38,
   "metadata": {},
   "outputs": [
    {
     "data": {
      "text/plain": [
       "<matplotlib.colorbar.Colorbar at 0x7f72d242b370>"
      ]
     },
     "execution_count": 38,
     "metadata": {},
     "output_type": "execute_result"
    },
    {
     "data": {
      "image/png": "[encoded data removed]",
      "text/plain": [
       "<Figure size 432x288 with 2 Axes>"
      ]
     },
     "metadata": {
      "needs_background": "light"
     },
     "output_type": "display_data"
    }
   ],
   "source": [
    "plt.pcolormesh(fhat_mlem.cpu()[65].T)\n",
    "plt.colorbar()"
   ]
  },
  {
   "cell_type": "markdown",
   "metadata": {},
   "source": [
    "# Experimenting With PSF Modeling"
   ]
  },
  {
   "cell_type": "markdown",
   "metadata": {},
   "source": [
    "Blurring of each layer is a function of distance to detector z"
   ]
  },
  {
   "cell_type": "code",
   "execution_count": null,
   "metadata": {},
   "outputs": [],
   "source": []
  },
  {
   "cell_type": "code",
   "execution_count": null,
   "metadata": {},
   "outputs": [],
   "source": []
  },
  {
   "cell_type": "code",
   "execution_count": 39,
   "metadata": {},
   "outputs": [
    {
     "ename": "TypeError",
     "evalue": "model_PSF() got an unexpected keyword argument 'r'",
     "output_type": "error",
     "traceback": [
      "\u001b[0;31m---------------------------------------------------------------------------\u001b[0m",
      "\u001b[0;31mTypeError\u001b[0m                                 Traceback (most recent call last)",
      "\u001b[1;32m/home/ubuntu/tormography/mlem.ipynb Cell 31\u001b[0m in \u001b[0;36m<cell line: 1>\u001b[0;34m()\u001b[0m\n\u001b[0;32m----> <a href='vscode-notebook-cell://ssh-remote%2Blpolson_machine1.ubc-hpc.cloud/home/ubuntu/tormography/mlem.ipynb#X40sdnNjb2RlLXJlbW90ZQ%3D%3D?line=0'>1</a>\u001b[0m g_blurred \u001b[39m=\u001b[39m model_PSF(f, r\u001b[39m=\u001b[39;49m\u001b[39m150\u001b[39;49m, dx\u001b[39m=\u001b[39;49m\u001b[39m0.7\u001b[39;49m, a\u001b[39m=\u001b[39;49m\u001b[39m0\u001b[39;49m, b\u001b[39m=\u001b[39;49m\u001b[39m0\u001b[39;49m)\n",
      "File \u001b[0;32m~/anaconda3/envs/pytorch/lib/python3.10/site-packages/torch/autograd/grad_mode.py:27\u001b[0m, in \u001b[0;36m_DecoratorContextManager.__call__.<locals>.decorate_context\u001b[0;34m(*args, **kwargs)\u001b[0m\n\u001b[1;32m     24\u001b[0m \u001b[39m@functools\u001b[39m\u001b[39m.\u001b[39mwraps(func)\n\u001b[1;32m     25\u001b[0m \u001b[39mdef\u001b[39;00m \u001b[39mdecorate_context\u001b[39m(\u001b[39m*\u001b[39margs, \u001b[39m*\u001b[39m\u001b[39m*\u001b[39mkwargs):\n\u001b[1;32m     26\u001b[0m     \u001b[39mwith\u001b[39;00m \u001b[39mself\u001b[39m\u001b[39m.\u001b[39mclone():\n\u001b[0;32m---> 27\u001b[0m         \u001b[39mreturn\u001b[39;00m func(\u001b[39m*\u001b[39;49margs, \u001b[39m*\u001b[39;49m\u001b[39m*\u001b[39;49mkwargs)\n",
      "\u001b[0;31mTypeError\u001b[0m: model_PSF() got an unexpected keyword argument 'r'"
     ]
    }
   ],
   "source": [
    "g_blurred = model_PSF(f, r=150, dx=0.7, a=0, b=0)"
   ]
  },
  {
   "cell_type": "code",
   "execution_count": null,
   "metadata": {},
   "outputs": [
    {
     "data": {
      "text/plain": [
       "<matplotlib.collections.QuadMesh at 0x7efec7adc220>"
      ]
     },
     "execution_count": 480,
     "metadata": {},
     "output_type": "execute_result"
    },
    {
     "data": {
      "image/png": "[encoded data removed]",
      "text/plain": [
       "<Figure size 432x288 with 1 Axes>"
      ]
     },
     "metadata": {
      "needs_background": "light"
     },
     "output_type": "display_data"
    }
   ],
   "source": [
    "plt.pcolormesh(g_blurred.detach().cpu())"
   ]
  },
  {
   "cell_type": "code",
   "execution_count": null,
   "metadata": {},
   "outputs": [],
   "source": [
    "kernel_size = 11\n",
    "layer = torch.nn.Conv3d(1, 1, kernel_size=(128,kernel_size,kernel_size)).to(device)"
   ]
  },
  {
   "cell_type": "code",
   "execution_count": null,
   "metadata": {},
   "outputs": [
    {
     "data": {
      "text/plain": [
       "torch.Size([1, 1, 128, 11, 11])"
      ]
     },
     "execution_count": 501,
     "metadata": {},
     "output_type": "execute_result"
    }
   ],
   "source": [
    "layer.weight.data.shape"
   ]
  },
  {
   "cell_type": "code",
   "execution_count": null,
   "metadata": {},
   "outputs": [],
   "source": [
    "layer.weight.data[0][0] = 0\n",
    "layer.weight.data[0][0][kernel_size//2] = torch.tensor(create_gaussian_kernel(kernel_size, sigma=2))\n"
   ]
  },
  {
   "cell_type": "code",
   "execution_count": null,
   "metadata": {},
   "outputs": [
    {
     "ename": "IndexError",
     "evalue": "index 1 is out of bounds for dimension 0 with size 1",
     "output_type": "error",
     "traceback": [
      "\u001b[0;31m---------------------------------------------------------------------------\u001b[0m",
      "\u001b[0;31mIndexError\u001b[0m                                Traceback (most recent call last)",
      "\u001b[1;32m/home/ubuntu/tormography/mlem.ipynb Cell 35\u001b[0m in \u001b[0;36m<cell line: 1>\u001b[0;34m()\u001b[0m\n\u001b[0;32m----> <a href='vscode-notebook-cell://ssh-remote%2Blpolson_machine1.ubc-hpc.cloud/home/ubuntu/tormography/mlem.ipynb#Y134sdnNjb2RlLXJlbW90ZQ%3D%3D?line=0'>1</a>\u001b[0m layer\u001b[39m.\u001b[39;49mweight\u001b[39m.\u001b[39;49mdata[\u001b[39m0\u001b[39;49m][\u001b[39m1\u001b[39;49m]\n",
      "\u001b[0;31mIndexError\u001b[0m: index 1 is out of bounds for dimension 0 with size 1"
     ]
    }
   ],
   "source": [
    "layer.weight.data[0][1]"
   ]
  },
  {
   "cell_type": "code",
   "execution_count": null,
   "metadata": {},
   "outputs": [],
   "source": []
  },
  {
   "cell_type": "code",
   "execution_count": null,
   "metadata": {},
   "outputs": [],
   "source": [
    "c= torch.exp(-rev_cumsum(CT * dx, dim=0)).to(device)"
   ]
  },
  {
   "cell_type": "code",
   "execution_count": null,
   "metadata": {},
   "outputs": [],
   "source": [
    "c = torch.zeros((100,130,150)).to(device)\n",
    "c[:,50:70,50:70] = 1"
   ]
  },
  {
   "cell_type": "code",
   "execution_count": null,
   "metadata": {},
   "outputs": [
    {
     "ename": "NameError",
     "evalue": "name 'model_PSF_back_projection' is not defined",
     "output_type": "error",
     "traceback": [
      "\u001b[0;31m---------------------------------------------------------------------------\u001b[0m",
      "\u001b[0;31mNameError\u001b[0m                                 Traceback (most recent call last)",
      "\u001b[1;32m/home/ubuntu/tormography/mlem.ipynb Cell 40\u001b[0m in \u001b[0;36m<cell line: 1>\u001b[0;34m()\u001b[0m\n\u001b[0;32m----> <a href='vscode-notebook-cell://ssh-remote%2Blpolson_machine1.ubc-hpc.cloud/home/ubuntu/tormography/mlem.ipynb#X52sdnNjb2RlLXJlbW90ZQ%3D%3D?line=0'>1</a>\u001b[0m c_PSF, net, FWHM \u001b[39m=\u001b[39m model_PSF_back_projection(c, r\u001b[39m=\u001b[39m\u001b[39m150\u001b[39m, dx\u001b[39m=\u001b[39m\u001b[39m2\u001b[39m, a\u001b[39m=\u001b[39m\u001b[39m1\u001b[39m\u001b[39m/\u001b[39m\u001b[39m70\u001b[39m, b\u001b[39m=\u001b[39m\u001b[39m0\u001b[39m)\n",
      "\u001b[0;31mNameError\u001b[0m: name 'model_PSF_back_projection' is not defined"
     ]
    }
   ],
   "source": [
    "c_PSF, net, FWHM = model_PSF_back_projection(c, r=150, dx=2, a=1/70, b=0)\n"
   ]
  },
  {
   "cell_type": "code",
   "execution_count": null,
   "metadata": {},
   "outputs": [
    {
     "data": {
      "text/plain": [
       "<matplotlib.colorbar.Colorbar at 0x7efec2eb6b90>"
      ]
     },
     "execution_count": 761,
     "metadata": {},
     "output_type": "execute_result"
    },
    {
     "data": {
      "image/png": "[encoded data removed]",
      "text/plain": [
       "<Figure size 432x288 with 2 Axes>"
      ]
     },
     "metadata": {
      "needs_background": "light"
     },
     "output_type": "display_data"
    }
   ],
   "source": [
    "plt.pcolormesh(net.weight.data[50][0].detach().cpu())\n",
    "plt.colorbar()"
   ]
  },
  {
   "cell_type": "code",
   "execution_count": null,
   "metadata": {},
   "outputs": [
    {
     "data": {
      "text/plain": [
       "<matplotlib.colorbar.Colorbar at 0x7efec2dba7d0>"
      ]
     },
     "execution_count": 762,
     "metadata": {},
     "output_type": "execute_result"
    },
    {
     "data": {
      "image/png": "[encoded data removed]",
      "text/plain": [
       "<Figure size 2160x360 with 4 Axes>"
      ]
     },
     "metadata": {
      "needs_background": "light"
     },
     "output_type": "display_data"
    }
   ],
   "source": [
    "plt.subplots(1,2,figsize=(30,5))\n",
    "plt.subplot(121)\n",
    "plt.pcolormesh(c[:,:,60].cpu().T)\n",
    "plt.colorbar()\n",
    "plt.subplot(122)\n",
    "plt.pcolormesh(c_PSF[:,:,60].detach().cpu().T)\n",
    "plt.colorbar()\n"
   ]
  },
  {
   "cell_type": "code",
   "execution_count": null,
   "metadata": {},
   "outputs": [
    {
     "data": {
      "text/plain": [
       "[<matplotlib.lines.Line2D at 0x7efec3178940>]"
      ]
     },
     "execution_count": 753,
     "metadata": {},
     "output_type": "execute_result"
    },
    {
     "data": {
      "image/png": "[encoded data removed]",
      "text/plain": [
       "<Figure size 432x288 with 1 Axes>"
      ]
     },
     "metadata": {
      "needs_background": "light"
     },
     "output_type": "display_data"
    }
   ],
   "source": [
    "plt.plot(c_PSF[0,60].detach().cpu())\n",
    "plt.plot(c_PSF[30,60].detach().cpu())"
   ]
  },
  {
   "attachments": {},
   "cell_type": "markdown",
   "metadata": {},
   "source": [
    "# Experimenting With Class "
   ]
  }
 ],
 "metadata": {
  "kernelspec": {
   "display_name": "Python 3.10.4 ('pytorch')",
   "language": "python",
   "name": "python3"
  },
  "language_info": {
   "codemirror_mode": {
    "name": "ipython",
    "version": 3
   },
   "file_extension": ".py",
   "mimetype": "text/x-python",
   "name": "python",
   "nbconvert_exporter": "python",
   "pygments_lexer": "ipython3",
   "version": "3.10.4 (main, Mar 31 2022, 08:41:55) [GCC 7.5.0]"
  },
  "orig_nbformat": 4,
  "vscode": {
   "interpreter": {
    "hash": "c111c98ab16bb2146b3750ff96300d2ea24b959b05391bbc2c1f7544a5d2c2ae"
   }
  }
 },
 "nbformat": 4,
 "nbformat_minor": 2
}
