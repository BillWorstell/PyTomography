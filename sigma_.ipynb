{
 "cells": [
  {
   "cell_type": "code",
   "execution_count": 14,
   "id": "ae40031b",
   "metadata": {},
   "outputs": [],
   "source": [
    "def Sigma_z(Manufacturer, CameraModel, CollimatorName, CollimatorMaterial, Distance_cm, Energy_KeV):\n",
    "    \n",
    "    import numpy as np\n",
    "    import pandas as pd\n",
    "\n",
    "    scanner_datasheet = pd.read_excel(\"data_sheet.xlsx\")\n",
    "    attenuation_coefficient_energy = pd.read_excel(\"lead_attenuation_values.xlsx\")\n",
    "        \n",
    "    for i in range(len(scanner_datasheet.Manufacturer)):\n",
    "\n",
    "        if Manufacturer == scanner_datasheet.iloc[i,0] and CameraModel == scanner_datasheet.iloc[i,1] and CollimatorName == scanner_datasheet.iloc[i,2]: \n",
    "\n",
    "            hole_diameter = scanner_datasheet.iloc[i,3]\n",
    "            hole_length = scanner_datasheet.iloc[i,4]\n",
    "#             print(hole_diameter)\n",
    "#             print(hole_length)\n",
    "            \n",
    "    #attenuation_coefficient_energy_ = attenuation_coefficient_energy[[CollimatorMaterial]]\n",
    "    for i in range(len(attenuation_coefficient_energy.Energy_KeV)):\n",
    "        if Energy_KeV == attenuation_coefficient_energy.iloc[i,0]:\n",
    "            attenuation_coefficient = attenuation_coefficient_energy.iloc[i,1]\n",
    "#             print(attenuation_coefficient)      \n",
    "\n",
    "    collimator_slope = hole_diameter/(hole_length-(2/attenuation_coefficient))\n",
    "    collimator_intercept = hole_diameter\n",
    "\n",
    "    Rc_FWHM = (collimator_slope * Distance_cm) + collimator_intercept\n",
    "    Sigma_gaussian = Rc_FWHM/2.3548\n",
    "    print(\"Sigma_gaussian: \", Sigma_gaussian)"
   ]
  },
  {
   "cell_type": "code",
   "execution_count": 15,
   "id": "776ed5b4",
   "metadata": {},
   "outputs": [
    {
     "name": "stdout",
     "output_type": "stream",
     "text": [
      "Sigma_gaussian:  0.14645562340385732\n"
     ]
    }
   ],
   "source": [
    "Sigma_z('Siemens', 'SymbiaTSeries', 'LEHR', 'Lead', 5, 100)"
   ]
  },
  {
   "cell_type": "code",
   "execution_count": null,
   "id": "00fb4681",
   "metadata": {},
   "outputs": [],
   "source": []
  }
 ],
 "metadata": {
  "kernelspec": {
   "display_name": "Python 3 (ipykernel)",
   "language": "python",
   "name": "python3"
  },
  "language_info": {
   "codemirror_mode": {
    "name": "ipython",
    "version": 3
   },
   "file_extension": ".py",
   "mimetype": "text/x-python",
   "name": "python",
   "nbconvert_exporter": "python",
   "pygments_lexer": "ipython3",
   "version": "3.10.10"
  }
 },
 "nbformat": 4,
 "nbformat_minor": 5
}
